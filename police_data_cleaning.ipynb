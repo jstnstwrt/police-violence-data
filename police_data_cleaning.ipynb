{
 "cells": [
  {
   "cell_type": "code",
   "execution_count": 1,
   "metadata": {
    "collapsed": true
   },
   "outputs": [],
   "source": [
    "import pandas as pd\n",
    "import numpy as np"
   ]
  },
  {
   "cell_type": "code",
   "execution_count": 2,
   "metadata": {
    "collapsed": true
   },
   "outputs": [],
   "source": [
    "df = pd.read_csv('police_killings.csv')"
   ]
  },
  {
   "cell_type": "code",
   "execution_count": 3,
   "metadata": {
    "collapsed": true
   },
   "outputs": [],
   "source": [
    "cols = ['name', 'age', 'gender', 'race','image_url','date_of_death','address', 'city','state', 'zipcode',\n",
    "'county', 'agency_responsible','cause_of_death','description','verdict','criminal_charges',\n",
    " 'news_article_url','menthal_illness', 'armed']"
   ]
  },
  {
   "cell_type": "code",
   "execution_count": 4,
   "metadata": {
    "collapsed": true
   },
   "outputs": [],
   "source": [
    "df.columns = cols"
   ]
  },
  {
   "cell_type": "code",
   "execution_count": 5,
   "metadata": {
    "collapsed": false
   },
   "outputs": [],
   "source": [
    "df['age'] = df.age.replace({'Unknown': np.nan}).astype('float')"
   ]
  },
  {
   "cell_type": "code",
   "execution_count": 11,
   "metadata": {
    "collapsed": false
   },
   "outputs": [],
   "source": [
    "## dropping nan zips for now. can handle better. get zips for available addrs.\n",
    "df = df.dropna(axis=0,subset=['zipcode'])\n",
    "df['zipcode'] = df.zipcode.astype('int')"
   ]
  },
  {
   "cell_type": "code",
   "execution_count": 7,
   "metadata": {
    "collapsed": false
   },
   "outputs": [],
   "source": [
    "df['date_of_death'] = pd.to_datetime(df.date_of_death)"
   ]
  },
  {
   "cell_type": "code",
   "execution_count": 13,
   "metadata": {
    "collapsed": true
   },
   "outputs": [],
   "source": [
    "df.to_csv('police_killings_clean.csv',index=False,header=True)"
   ]
  },
  {
   "cell_type": "code",
   "execution_count": null,
   "metadata": {
    "collapsed": true
   },
   "outputs": [],
   "source": []
  },
  {
   "cell_type": "code",
   "execution_count": 17,
   "metadata": {
    "collapsed": false
   },
   "outputs": [
    {
     "data": {
      "text/plain": [
       "[{'address': '161 Bedford Ave',\n",
       "  'age': 21.0,\n",
       "  'agency_responsible': 'New York Police Department',\n",
       "  'armed': 'Unarmed',\n",
       "  'cause_of_death': 'Vehicle',\n",
       "  'city': 'Brooklyn',\n",
       "  'county': 'Kings',\n",
       "  'criminal_charges': 'Charged with a crime',\n",
       "  'date_of_death': Timestamp('2016-07-16 00:00:00'),\n",
       "  'description': 'Esquivel was killed as he walked with three friends along a residential street in Brooklyn. He and his group emerged from the Bedford Avenue subway when they were hit by a Dodge Durango SUV driven by the 28-year-old officer, Nicholas Batka. Batka is charged with manslaughter and has been suspended from duty, the reports said.',\n",
       "  'gender': 'Male',\n",
       "  'image_url': 'http://assets.nydailynews.com/polopoly_fs/1.2715094.1468812362!/img/httpImage/image.jpg_gen/derivatives/article_1200/crash18n-3-web.jpg',\n",
       "  'menthal_illness': 'No',\n",
       "  'name': 'Andrew “Drew” Esquivel',\n",
       "  'news_article_url': 'http://www.nydailynews.com/new-york/mit-student-killed-drunk-off-duty-officer-brooklyn-crash-article-1.2715097',\n",
       "  'race': 'White',\n",
       "  'state': 'NY',\n",
       "  'verdict': 'Charged with manslaughter',\n",
       "  'zipcode': 11211},\n",
       " {'address': 'Debevoise Ave. and Jackson St.',\n",
       "  'age': 42.0,\n",
       "  'agency_responsible': 'New York Police Department',\n",
       "  'armed': 'Allegedly Armed',\n",
       "  'cause_of_death': 'Gunshot',\n",
       "  'city': 'Brooklyn',\n",
       "  'county': 'Kings',\n",
       "  'criminal_charges': 'No Known Charges',\n",
       "  'date_of_death': Timestamp('2016-07-17 00:00:00'),\n",
       "  'description': 'Two officers responded to Debevoise Ave. at Jackson St. in the Cooper Park Houses after receiving a pair of 911 calls — one reporting an emotionally disturbed man and the other a robbery at gunpoint, police said. Police spotted Johnson toting a .40-caliber semiautomatic handgun, and fitting the robbery suspect’s description, police said. Johnson opened fire on the officers, who shot and killed him.',\n",
       "  'gender': 'Male',\n",
       "  'image_url': nan,\n",
       "  'menthal_illness': 'Unknown',\n",
       "  'name': 'Jermaine Johnson',\n",
       "  'news_article_url': 'http://www.nydailynews.com/new-york/brooklyn/person-shot-police-involved-shooting-brooklyn-article-1.2714732',\n",
       "  'race': 'Black',\n",
       "  'state': 'NY',\n",
       "  'verdict': 'Pending investigation',\n",
       "  'zipcode': 11211},\n",
       " {'address': '300 Hooper Street',\n",
       "  'age': 61.0,\n",
       "  'agency_responsible': 'New York Police Department',\n",
       "  'armed': 'Allegedly Armed',\n",
       "  'cause_of_death': 'Vehicle',\n",
       "  'city': 'Brooklyn',\n",
       "  'county': 'Kings',\n",
       "  'criminal_charges': 'No Known Charges',\n",
       "  'date_of_death': Timestamp('2013-07-06 00:00:00'),\n",
       "  'description': 'The 61-year-old Spanish teacher Coss was legally crossing the street in daylight when struck by a marked police van making a left turn. The driver was seen by witnesses to be on her cell phone. She refused to surrender the phone, and no charges were contemplated.',\n",
       "  'gender': 'Male',\n",
       "  'image_url': 'http://www.streetsblog.org/wp-content/uploads/2013/07/coss-felix.jpg',\n",
       "  'menthal_illness': 'No',\n",
       "  'name': 'Felix Coss',\n",
       "  'news_article_url': 'http://www.streetsblog.org/2013/07/10/will-the-rule-of-two-trigger-hynes-probe-into-the-death-of-felix-coss/',\n",
       "  'race': 'White',\n",
       "  'state': 'NY',\n",
       "  'verdict': 'Unreported',\n",
       "  'zipcode': 11211}]"
      ]
     },
     "execution_count": 17,
     "metadata": {},
     "output_type": "execute_result"
    }
   ],
   "source": [
    "def get_incidents(zipcodes):\n",
    "    incidents = list(df[df.zipcode.isin([11211])].T.to_dict().values())\n",
    "    return {'incidents':incidents}"
   ]
  }
 ],
 "metadata": {
  "kernelspec": {
   "display_name": "Python 3",
   "language": "python",
   "name": "python3"
  },
  "language_info": {
   "codemirror_mode": {
    "name": "ipython",
    "version": 3
   },
   "file_extension": ".py",
   "mimetype": "text/x-python",
   "name": "python",
   "nbconvert_exporter": "python",
   "pygments_lexer": "ipython3",
   "version": "3.6.0"
  }
 },
 "nbformat": 4,
 "nbformat_minor": 2
}
